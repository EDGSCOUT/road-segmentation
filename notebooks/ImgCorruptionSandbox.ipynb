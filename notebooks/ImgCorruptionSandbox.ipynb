{
 "cells": [
  {
   "cell_type": "code",
   "execution_count": 1,
   "metadata": {
    "collapsed": true,
    "deletable": true,
    "editable": true
   },
   "outputs": [],
   "source": [
    "import numpy as np\n",
    "from scipy.ndimage.interpolation import rotate as rotscipy\n",
    "from skimage.transform import rotate\n",
    "%matplotlib inline\n",
    "import tensorflow as tf\n",
    "import numpy as np\n",
    "import matplotlib\n",
    "import matplotlib.pyplot as plt\n",
    "import matplotlib.image as mpimg\n",
    "from skimage.transform import resize"
   ]
  },
  {
   "cell_type": "code",
   "execution_count": 2,
   "metadata": {
    "collapsed": false,
    "deletable": true,
    "editable": true
   },
   "outputs": [
    {
     "name": "stdout",
     "output_type": "stream",
     "text": [
      "(2, 24, 24)\n"
     ]
    },
    {
     "name": "stderr",
     "output_type": "stream",
     "text": [
      "C:\\Users\\Florian Chlan\\Anaconda3\\envs\\tensorflow\\lib\\site-packages\\skimage\\transform\\_warps.py:84: UserWarning: The default mode, 'constant', will be changed to 'reflect' in skimage 0.15.\n",
      "  warn(\"The default mode, 'constant', will be changed to 'reflect' in \"\n",
      "C:\\Users\\Florian Chlan\\Anaconda3\\envs\\tensorflow\\lib\\site-packages\\skimage\\transform\\_warps.py:84: UserWarning: The default mode, 'constant', will be changed to 'reflect' in skimage 0.15.\n",
      "  warn(\"The default mode, 'constant', will be changed to 'reflect' in \"\n"
     ]
    },
    {
     "data": {
      "text/plain": [
       "<matplotlib.image.AxesImage at 0x2a71f999160>"
      ]
     },
     "execution_count": 2,
     "metadata": {},
     "output_type": "execute_result"
    },
    {
     "data": {
      "image/png": "[encoded data removed]",
      "text/plain": [
       "<matplotlib.figure.Figure at 0x2a71bae5940>"
      ]
     },
     "metadata": {},
     "output_type": "display_data"
    }
   ],
   "source": [
    "image_filename1 = \"../data/training/groundtruth/satImage_060.png\"\n",
    "image_filename2 = \"../data/training/groundtruth/satImage_043.png\"\n",
    "TARGET_SIZE = 24\n",
    "original_img1 = mpimg.imread(image_filename1)\n",
    "resized_img1 = resize(original_img1, (TARGET_SIZE, TARGET_SIZE))\n",
    "original_img2 = mpimg.imread(image_filename2)\n",
    "resized_img2 = resize(original_img2, (TARGET_SIZE, TARGET_SIZE))\n",
    "\n",
    "resized_img = np.stack([resized_img1, resized_img2], axis=0)\n",
    "print(resized_img.shape)\n",
    "plt.imshow(resized_img[0,...], cmap='gray')"
   ]
  },
  {
   "cell_type": "code",
   "execution_count": 3,
   "metadata": {
    "collapsed": false,
    "deletable": true,
    "editable": true
   },
   "outputs": [],
   "source": [
    "def corrupt(data, nu, type='salt_and_pepper'):\n",
    "    \"\"\"\n",
    "    Corrupts the data for inputing into the de-noising autoencoder\n",
    "\n",
    "    Args:\n",
    "        data: numpy array of size (num_points, 1, img_size, img_size)\n",
    "        nu: corruption level\n",
    "    Returns:\n",
    "        numpy array of size (num_points, 1, img_size, img_size)\n",
    "    \"\"\"\n",
    "    if type == 'salt_and_pepper':\n",
    "        img_max = np.ones(data.shape, dtype=bool)\n",
    "        tmp = np.copy(data)\n",
    "        img_max[data <= 0.5] = False\n",
    "        img_min = np.logical_not(img_max)\n",
    "        idx = np.random.choice(a = [True, False], size=data.shape, p=[nu, 1-nu])\n",
    "        tmp[np.logical_and(img_max, idx)] = 0\n",
    "        tmp[np.logical_and(img_min, idx)] = 1\n",
    "    elif type == 'random_neighbourhood':\n",
    "\n",
    "        def get_neighbourhood(img, i, j):\n",
    "            startPosX = i - 1\n",
    "            startPosY = j - 1\n",
    "            endPosX = i + 2\n",
    "            endPosY = j + 2\n",
    "            centerX = 1\n",
    "            centerY = 1\n",
    "            if i >= img.shape[0]:\n",
    "                endPosX = i + 1\n",
    "            if j >= img.shape[1]:\n",
    "                endPosY = j + 1\n",
    "            if i - 1 < 0:\n",
    "                startPosX = i\n",
    "                centerX = 0\n",
    "            if j - 1 < 0:\n",
    "                startPosY = j\n",
    "                centerY = 0\n",
    "\n",
    "            return img[startPosX:endPosX, startPosY:endPosY], (centerX, centerY)\n",
    "\n",
    "        def randomly_flip_8_neighbourhood(data, i, j, minval, maxval, neighbour_flip_prob):\n",
    "            neighbours, centerPos = get_neighbourhood(data, i, j)\n",
    "\n",
    "            # Choose a random mask of the 8 neighbours to flip\n",
    "            mask = np.random.choice([True, False], size=neighbours.shape,\n",
    "                                    p=(neighbour_flip_prob, 1 - neighbour_flip_prob))\n",
    "            # Certainly flip the center position\n",
    "            mask[centerPos] = True\n",
    "\n",
    "            # Depending on the center pixel we set the random neighbourhood to the min or max intensity\n",
    "            replace_val = minval if neighbours[centerPos] >= 0.5 else maxval\n",
    "            replace_arr = np.full(shape=neighbours.shape, fill_value=replace_val)\n",
    "            neighbours[mask] = replace_arr[mask]\n",
    "\n",
    "        RANDOMIZATIONS_NEEDED = 2\n",
    "        FLIP_BASE_CHANCE = 0.5\n",
    "        FLIP_8NEIGHBOURHOOD_CHANCE = 0.8\n",
    "        NEIGHBOUR_FLIP_PROB_BACKGROUND = 0.025\n",
    "        NEIGHBOUR_FLIP_PROB_ROAD = 0.9\n",
    "        FLIP_ROAD_BACK_THRESHOLD = 0.2\n",
    "\n",
    "        tmp = np.copy(data)\n",
    "        minval = tmp.min()\n",
    "        maxval = tmp.max()\n",
    "\n",
    "        assert tmp.shape[1] == tmp.shape[2] # Assume square images\n",
    "        image_width = tmp.shape[1]\n",
    "        num_patches = tmp.shape[0]\n",
    "        # Sample random image indices (separately for the i- and j-dimensions)\n",
    "        flips_per_image= int(image_width**2 * nu)\n",
    "        random_indices = np.random.randint(0, image_width, (num_patches, flips_per_image, 2))\n",
    "\n",
    "        # Sample all the random numbers beforehand to speedup things\n",
    "        flip_probabilities = np.random.random(size=(num_patches, flips_per_image, RANDOMIZATIONS_NEEDED))\n",
    "\n",
    "        for idxpatch in range(num_patches):\n",
    "\n",
    "            for idxcount, indices in enumerate(random_indices[idxpatch,...]):\n",
    "                i, j = indices\n",
    "                if flip_probabilities[idxpatch, idxcount, 0] < FLIP_BASE_CHANCE: # Apply flip only with base chance of 50 %\n",
    "\n",
    "                    if flip_probabilities[idxpatch, idxcount, 1] < FLIP_8NEIGHBOURHOOD_CHANCE:\n",
    "                        neighbour_flip_prob = NEIGHBOUR_FLIP_PROB_ROAD if tmp[idxpatch,i,j] >= FLIP_ROAD_BACK_THRESHOLD else NEIGHBOUR_FLIP_PROB_BACKGROUND\n",
    "                        # Else we also flip the neighbourhood.\n",
    "                        # With 50 % chance we flip either the 8- or 4-neighbourhood\n",
    "                        randomly_flip_8_neighbourhood(tmp[idxpatch,...], i, j, minval, maxval, neighbour_flip_prob)\n",
    "    return tmp"
   ]
  },
  {
   "cell_type": "code",
   "execution_count": null,
   "metadata": {
    "collapsed": false,
    "deletable": true,
    "editable": true
   },
   "outputs": [],
   "source": []
  },
  {
   "cell_type": "code",
   "execution_count": 4,
   "metadata": {
    "collapsed": false,
    "deletable": true,
    "editable": true
   },
   "outputs": [],
   "source": [
    "saltnpepper_img = corrupt(resized_img, 0.05, 'salt_and_pepper')\n",
    "randomneighbour_img = corrupt(resized_img, 0.05, 'random_neighbourhood')\n",
    "\n"
   ]
  },
  {
   "cell_type": "code",
   "execution_count": 5,
   "metadata": {
    "collapsed": false,
    "deletable": true,
    "editable": true
   },
   "outputs": [
    {
     "data": {
      "text/plain": [
       "<matplotlib.image.AxesImage at 0x2a71fadb0f0>"
      ]
     },
     "execution_count": 5,
     "metadata": {},
     "output_type": "execute_result"
    },
    {
     "data": {
      "image/png": "[encoded data removed]",
      "text/plain": [
       "<matplotlib.figure.Figure at 0x2a71f9b04e0>"
      ]
     },
     "metadata": {},
     "output_type": "display_data"
    }
   ],
   "source": [
    "fig, ax = plt.subplots(ncols=3, figsize=(20, 10))\n",
    "ax[0].imshow(resized_img[0,...], cmap='gray')\n",
    "ax[1].imshow(saltnpepper_img[0,...], cmap='gray')\n",
    "ax[2].imshow(randomneighbour_img[0,...], cmap='gray')"
   ]
  }
 ],
 "metadata": {
  "kernelspec": {
   "display_name": "Python 3",
   "language": "python",
   "name": "python3"
  },
  "language_info": {
   "codemirror_mode": {
    "name": "ipython",
    "version": 3
   },
   "file_extension": ".py",
   "mimetype": "text/x-python",
   "name": "python",
   "nbconvert_exporter": "python",
   "pygments_lexer": "ipython3",
   "version": "3.5.3"
  }
 },
 "nbformat": 4,
 "nbformat_minor": 2
}
